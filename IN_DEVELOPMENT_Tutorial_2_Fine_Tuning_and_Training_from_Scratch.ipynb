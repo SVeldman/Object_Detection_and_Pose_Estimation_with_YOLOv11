{
  "nbformat": 4,
  "nbformat_minor": 0,
  "metadata": {
    "colab": {
      "provenance": []
    },
    "kernelspec": {
      "name": "python3",
      "display_name": "Python 3"
    },
    "language_info": {
      "name": "python"
    }
  },
  "cells": [
    {
      "cell_type": "markdown",
      "source": [
        "# Object Detection - Adding Additional Classes to the Pretrained Model and Training Task/Domain Specific Models\n",
        "\n",
        "References: https://docs.ultralytics.com/"
      ],
      "metadata": {
        "id": "26NhmulM9Nx_"
      }
    },
    {
      "cell_type": "code",
      "execution_count": null,
      "metadata": {
        "id": "PXM8fZY4839G"
      },
      "outputs": [],
      "source": [
        "#!pip install -U ultralytics\n",
        "#!pip install datasets\n",
        "import ultralytics\n",
        "from ultralytics import YOLO\n",
        "from datasets import load_dataset"
      ]
    },
    {
      "cell_type": "markdown",
      "source": [
        "## Adding a New Class Not Represented in the COCO Dataset\n",
        "\n",
        "As we saw in the live demo, there are many common objects that are not represented in the dataset on which the YOLO models were pretrained. Here we will look at how to retrain the basic model, adding the capabiltiy to recognize the \"pen\" class.\n",
        "\n",
        "To do this, we are going to retrain the YOLOv11 model using two datasets - the original COCO dataset, as well as a new dataset containing examples of ink pens. The new dataset we will use contains 100 annotated images, and was taken from a larger publicly available object detection dataset.\n",
        "\n",
        "(credit: https://universe.roboflow.com/majorproject-3rysc/drishtikosh)\n"
      ],
      "metadata": {
        "id": "LPmsuJWP9TNW"
      }
    },
    {
      "cell_type": "code",
      "source": [
        "# Download the new dataset:\n",
        "pens = load_dataset(\"SVeldman/pen_object_detection\")"
      ],
      "metadata": {
        "id": "IQF_QFsk9CTo"
      },
      "execution_count": null,
      "outputs": []
    },
    {
      "cell_type": "code",
      "source": [
        "# Load the basic YOLOv11 Object Detection Model:\n",
        "pen_detect = YOLO(\"yolo11s.pt\")"
      ],
      "metadata": {
        "id": "3Drn1M6Q9Ek3"
      },
      "execution_count": null,
      "outputs": []
    },
    {
      "cell_type": "code",
      "source": [
        "# Train model using both COCO and the new dataset:\n",
        "\n",
        "combined_datasets = pens #add code here to combine the two datasets\n",
        "\n",
        "pen_train_results = pen_detect.train(data=combined_datasets, epochs=100, imgsz=640)\n",
        "\n",
        "# Save \"pen_detect\" as \"pen_detect.pt\" and then download\n",
        "pen_detect.save(\"pen_detect.pt\")\n",
        "files.download(\"pen_detect.pt\")"
      ],
      "metadata": {
        "id": "koApgQxxkLLY"
      },
      "execution_count": null,
      "outputs": []
    },
    {
      "cell_type": "code",
      "source": [
        "# In the interest of time, we will not train this model live, but you can download one that I trained ahead of time here:\n",
        "\n",
        "# add code to download and save model once it is trained and hosted"
      ],
      "metadata": {
        "id": "5glEgC5sAhpg"
      },
      "execution_count": null,
      "outputs": []
    },
    {
      "cell_type": "markdown",
      "source": [
        "Now we can return to our YOLO_detect.py file. We will again run live inference on our webcam, and see that our model is now capable of correctly identifying the pen that it previously confused for a knife/toothbrush."
      ],
      "metadata": {
        "id": "dd0QK3E52IU6"
      }
    },
    {
      "cell_type": "markdown",
      "source": [
        "## Train New Model from Novel Dataset:\n",
        "Next we will train a brand new model with a \"domain specific\" dataset that I curated from things around my house (include link to information on image annotation)\n",
        "\n",
        "(this section will demonstrate how a properly annotated dataset from novel/custom images can train a model for very specific tasks - in this case identifying specific children's toys by name)\n"
      ],
      "metadata": {
        "id": "9HBKyjRbCixn"
      }
    },
    {
      "cell_type": "code",
      "source": [
        "# Load new dataset"
      ],
      "metadata": {
        "id": "v7YyGoH-CMRB"
      },
      "execution_count": null,
      "outputs": []
    },
    {
      "cell_type": "code",
      "source": [
        "# Load empty model"
      ],
      "metadata": {
        "id": "SKDdmo7_EQUa"
      },
      "execution_count": null,
      "outputs": []
    },
    {
      "cell_type": "code",
      "source": [
        "# Train model, save and download"
      ],
      "metadata": {
        "id": "1p5ooEP7Erjr"
      },
      "execution_count": null,
      "outputs": []
    },
    {
      "cell_type": "code",
      "source": [
        "# Demo live inference on webcam"
      ],
      "metadata": {
        "id": "u2ae5MiYG4F8"
      },
      "execution_count": null,
      "outputs": []
    },
    {
      "cell_type": "markdown",
      "source": [
        "Once again, we will return to our YOLO_detect.py file. Now when we run live inference on our webcam, we see that our new model can indentify these \"domain specific\" objects, but no longer detects the previous classes (which are no longer relevant to our use case)."
      ],
      "metadata": {
        "id": "zR0hk_tB3AxH"
      }
    }
  ]
}